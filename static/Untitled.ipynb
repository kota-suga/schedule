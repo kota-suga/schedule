{
 "cells": [
  {
   "cell_type": "code",
   "execution_count": 13,
   "id": "3edf4352-ebbd-4c5f-9056-706116b187af",
   "metadata": {},
   "outputs": [
    {
     "name": "stderr",
     "output_type": "stream",
     "text": [
      "/opt/anaconda3/envs/schedule_app/lib/python3.12/site-packages/IPython/core/magics/osm.py:417: UserWarning: This is now an optional IPython functionality, setting dhist requires you to install the `pickleshare` library.\n",
      "  self.shell.db['dhist'] = compress_dhist(dhist)[-100:]\n"
     ]
    },
    {
     "name": "stdout",
     "output_type": "stream",
     "text": [
      "/Users/sugakouta/work/schedule_app\n"
     ]
    }
   ],
   "source": [
    "%cd /Users/sugakouta/work/schedule_app\n",
    "\n",
    "from PIL import Image\n",
    "img = Image.open(\"static/frankmuller_192.png\")\n",
    "img.save(\"static/favicon.ico\", format=\"ICO\", sizes=[(32, 32)])"
   ]
  },
  {
   "cell_type": "code",
   "execution_count": null,
   "id": "c4e7045c-c7ca-4ed0-aa9d-3aa693f9e3ae",
   "metadata": {},
   "outputs": [],
   "source": []
  }
 ],
 "metadata": {
  "kernelspec": {
   "display_name": "Python 3 (ipykernel)",
   "language": "python",
   "name": "python3"
  },
  "language_info": {
   "codemirror_mode": {
    "name": "ipython",
    "version": 3
   },
   "file_extension": ".py",
   "mimetype": "text/x-python",
   "name": "python",
   "nbconvert_exporter": "python",
   "pygments_lexer": "ipython3",
   "version": "3.12.8"
  }
 },
 "nbformat": 4,
 "nbformat_minor": 5
}
